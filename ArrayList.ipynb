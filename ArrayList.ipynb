{
  "nbformat": 4,
  "nbformat_minor": 0,
  "metadata": {
    "colab": {
      "provenance": [],
      "authorship_tag": "ABX9TyOWYhkGOFeFjq7QQtyTn8hC",
      "include_colab_link": true
    },
    "kernelspec": {
      "name": "python3",
      "display_name": "Python 3"
    },
    "language_info": {
      "name": "python"
    }
  },
  "cells": [
    {
      "cell_type": "markdown",
      "metadata": {
        "id": "view-in-github",
        "colab_type": "text"
      },
      "source": [
        "<a href=\"https://colab.research.google.com/github/vibhabajpai-git/python/blob/main/ArrayList.ipynb\" target=\"_parent\"><img src=\"https://colab.research.google.com/assets/colab-badge.svg\" alt=\"Open In Colab\"/></a>"
      ]
    },
    {
      "cell_type": "code",
      "execution_count": 25,
      "metadata": {
        "colab": {
          "base_uri": "https://localhost:8080/"
        },
        "id": "uGt0OEKMSgAV",
        "outputId": "3259abdd-55d7-4a58-e437-10b531753445"
      },
      "outputs": [
        {
          "output_type": "stream",
          "name": "stdout",
          "text": [
            "Price on  1  is 234\n",
            "Price on  3  is 320\n",
            "234\n",
            "324\n",
            "320\n",
            "301\n",
            "296\n",
            "Extra $ spent in Feb, compare to Jan is: 150\n",
            "if 2000 was an expense done in any month: True\n",
            "Total expense in first quarter: 7150\n",
            "New expense list: [2200, 2350, 2600, 2130, 2000, 1980]\n",
            "modified expense of april: 2330\n",
            "No of super heroes: 5\n",
            "New list of super heroes: ['spider man', 'thor', 'hulk', 'iron man', 'captain america', 'black panther']\n",
            "After inserting black panther: ['spider man', 'thor', 'hulk', 'blank panther', 'iron man', 'captain america']\n",
            "After sorting the list: ['blank panther', 'captain america', 'hulk', 'iron man', 'spider man', 'thor']\n"
          ]
        }
      ],
      "source": [
        "##Store apple's stock price for 5 days and answer\n",
        "##1. What was the price on day 1\n",
        "##2. What was the price on day 3\n",
        "\n",
        "stock_price = [234, 324, 320, 301, 296]\n",
        "\n",
        "#O(1)\n",
        "def stockPrice(stock_price, day):\n",
        "    print(\"Price on \", day+1, \" is\", stock_price[day])\n",
        "\n",
        "stockPrice(stock_price, 0)\n",
        "stockPrice(stock_price, 2)\n",
        "\n",
        "#Print all the prices\n",
        "#O(n)\n",
        "def printAllPrices(stock_price):\n",
        "    for i in stock_price:\n",
        "        print(i)\n",
        "\n",
        "printAllPrices(stock_price)\n",
        "\n",
        "#Expense ofor every month are listed below:\n",
        "#January - 2200\n",
        "#February - 2350\n",
        "#March - 2600\n",
        "#April - 2130\n",
        "#May - 2190\n",
        "#1. In Feb, how many dollars you spent extra compare to January?\n",
        "#2. Find out your total expense in first quarter (first three months) of the year.\n",
        "#3. Find out if you spent exactly 2000 dollars in any month\n",
        "#4. June month just finished and your expense is 1980 dollar. Add this item to our monthly expense list\n",
        "#5. You returned an item that you bought in a month of April and\n",
        "#got a refund of 200$. Make a correction to your monthly expense list\n",
        "#based on this\n",
        "\n",
        "expenses = [2200, 2350, 2600, 2130, 2000]\n",
        "def findExpense():\n",
        "    print(\"Extra $ spent in Feb, compare to Jan is:\", expenses[1]-expenses[0])\n",
        "    count = 0\n",
        "    totalExpense = 0\n",
        "    for i in expenses:\n",
        "        totalExpense += i\n",
        "        count += 1\n",
        "        if (count == 3):\n",
        "         break\n",
        "\n",
        "    for i in expenses:\n",
        "        if(i == 2000):\n",
        "            print(\"if 2000 was an expense done in any month:\", bool(i == 2000))\n",
        "            break\n",
        "    expenses.append(1980)\n",
        "\n",
        "    print(\"Total expense in first quarter:\", totalExpense)\n",
        "    print(\"New expense list:\", expenses)\n",
        "    expenses[3] = expenses[3]+200\n",
        "    print(\"modified expense of april:\", expenses[3])\n",
        "\n",
        "findExpense()\n",
        "\n",
        "#Problem 2\n",
        "\n",
        "heros=['spider man','thor','hulk','iron man','captain america']\n",
        "def superHerosProblem():\n",
        "    print(\"No of super heroes:\", len(heros))\n",
        "    heros.append(\"black panther\")\n",
        "    print(\"New list of super heroes:\", heros)\n",
        "    heros.remove(\"black panther\")\n",
        "    heros.insert(3, \"blank panther\")\n",
        "    print(\"After inserting black panther:\", heros)\n",
        "    heros.sort()\n",
        "    print(\"After sorting the list:\", heros)\n",
        "\n",
        "\n",
        "superHerosProblem()"
      ]
    }
  ]
}